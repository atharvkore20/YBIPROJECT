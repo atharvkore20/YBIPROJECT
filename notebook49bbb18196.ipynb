{
 "cells": [
  {
   "cell_type": "markdown",
   "id": "5ce03035",
   "metadata": {
    "id": "Vy2SMfOTv6Ej",
    "papermill": {
     "duration": 0.014513,
     "end_time": "2024-01-15T15:34:57.932673",
     "exception": false,
     "start_time": "2024-01-15T15:34:57.918160",
     "status": "completed"
    },
    "tags": []
   },
   "source": [
    "# **Hand Written Digit Prediction-Classification Analysis**\n"
   ]
  },
  {
   "cell_type": "markdown",
   "id": "855aa135",
   "metadata": {
    "id": "KbuYmdX0w_ss",
    "papermill": {
     "duration": 0.014031,
     "end_time": "2024-01-15T15:34:57.963289",
     "exception": false,
     "start_time": "2024-01-15T15:34:57.949258",
     "status": "completed"
    },
    "tags": []
   },
   "source": [
    "The digits dataset consists of 8x8 pixel images pf digits.The images attribute of the dataset stores 8x8 arrays of grayscale values for each image.we will use these arrays to visualize the first 4 images.The target attritube of the dataset stores the digit each image represents"
   ]
  },
  {
   "cell_type": "markdown",
   "id": "3e86146c",
   "metadata": {
    "id": "q30YKMDE6ZFU",
    "papermill": {
     "duration": 0.015584,
     "end_time": "2024-01-15T15:34:57.993391",
     "exception": false,
     "start_time": "2024-01-15T15:34:57.977807",
     "status": "completed"
    },
    "tags": []
   },
   "source": [
    "ybi foundation-github"
   ]
  },
  {
   "cell_type": "markdown",
   "id": "e5ec8d70",
   "metadata": {
    "id": "Q8K4pOQP_NcM",
    "papermill": {
     "duration": 0.013924,
     "end_time": "2024-01-15T15:34:58.021739",
     "exception": false,
     "start_time": "2024-01-15T15:34:58.007815",
     "status": "completed"
    },
    "tags": []
   },
   "source": [
    "# **Import Library**"
   ]
  },
  {
   "cell_type": "code",
   "execution_count": 1,
   "id": "5fd1f997",
   "metadata": {
    "execution": {
     "iopub.execute_input": "2024-01-15T15:34:58.052109Z",
     "iopub.status.busy": "2024-01-15T15:34:58.051674Z",
     "iopub.status.idle": "2024-01-15T15:34:58.063910Z",
     "shell.execute_reply": "2024-01-15T15:34:58.062642Z"
    },
    "id": "t1eFOFTO-8Z0",
    "papermill": {
     "duration": 0.030693,
     "end_time": "2024-01-15T15:34:58.066625",
     "exception": false,
     "start_time": "2024-01-15T15:34:58.035932",
     "status": "completed"
    },
    "tags": []
   },
   "outputs": [],
   "source": [
    "import pandas as pd"
   ]
  },
  {
   "cell_type": "code",
   "execution_count": 2,
   "id": "1ed6e385",
   "metadata": {
    "execution": {
     "iopub.execute_input": "2024-01-15T15:34:58.097536Z",
     "iopub.status.busy": "2024-01-15T15:34:58.096769Z",
     "iopub.status.idle": "2024-01-15T15:34:58.102220Z",
     "shell.execute_reply": "2024-01-15T15:34:58.101149Z"
    },
    "id": "JyR99cCf_vhs",
    "papermill": {
     "duration": 0.024063,
     "end_time": "2024-01-15T15:34:58.104967",
     "exception": false,
     "start_time": "2024-01-15T15:34:58.080904",
     "status": "completed"
    },
    "tags": []
   },
   "outputs": [],
   "source": [
    "import numpy as np"
   ]
  },
  {
   "cell_type": "code",
   "execution_count": 3,
   "id": "d0800548",
   "metadata": {
    "execution": {
     "iopub.execute_input": "2024-01-15T15:34:58.136327Z",
     "iopub.status.busy": "2024-01-15T15:34:58.135276Z",
     "iopub.status.idle": "2024-01-15T15:34:58.140763Z",
     "shell.execute_reply": "2024-01-15T15:34:58.139893Z"
    },
    "id": "c0E4zO99AuEc",
    "papermill": {
     "duration": 0.023984,
     "end_time": "2024-01-15T15:34:58.143146",
     "exception": false,
     "start_time": "2024-01-15T15:34:58.119162",
     "status": "completed"
    },
    "tags": []
   },
   "outputs": [],
   "source": [
    "import matplotlib.pyplot as plt"
   ]
  },
  {
   "cell_type": "markdown",
   "id": "1de47c44",
   "metadata": {
    "id": "bRukRNKoA4VL",
    "papermill": {
     "duration": 0.014026,
     "end_time": "2024-01-15T15:34:58.171380",
     "exception": false,
     "start_time": "2024-01-15T15:34:58.157354",
     "status": "completed"
    },
    "tags": []
   },
   "source": [
    "# **Import Data**"
   ]
  },
  {
   "cell_type": "code",
   "execution_count": 4,
   "id": "8ce53ea9",
   "metadata": {
    "execution": {
     "iopub.execute_input": "2024-01-15T15:34:58.201828Z",
     "iopub.status.busy": "2024-01-15T15:34:58.201195Z",
     "iopub.status.idle": "2024-01-15T15:34:59.633663Z",
     "shell.execute_reply": "2024-01-15T15:34:59.632573Z"
    },
    "id": "qVGZMA-gA9wS",
    "papermill": {
     "duration": 1.451019,
     "end_time": "2024-01-15T15:34:59.636596",
     "exception": false,
     "start_time": "2024-01-15T15:34:58.185577",
     "status": "completed"
    },
    "tags": []
   },
   "outputs": [
    {
     "name": "stderr",
     "output_type": "stream",
     "text": [
      "/opt/conda/lib/python3.10/site-packages/scipy/__init__.py:146: UserWarning: A NumPy version >=1.16.5 and <1.23.0 is required for this version of SciPy (detected version 1.23.5\n",
      "  warnings.warn(f\"A NumPy version >={np_minversion} and <{np_maxversion}\"\n"
     ]
    }
   ],
   "source": [
    "from sklearn.datasets import load_digits"
   ]
  },
  {
   "cell_type": "markdown",
   "id": "421a916c",
   "metadata": {
    "id": "FsQ-nMO6Be9X",
    "papermill": {
     "duration": 0.014424,
     "end_time": "2024-01-15T15:34:59.665451",
     "exception": false,
     "start_time": "2024-01-15T15:34:59.651027",
     "status": "completed"
    },
    "tags": []
   },
   "source": [
    "# **Describe Data**"
   ]
  },
  {
   "cell_type": "code",
   "execution_count": 5,
   "id": "50ff1e3d",
   "metadata": {
    "execution": {
     "iopub.execute_input": "2024-01-15T15:34:59.696821Z",
     "iopub.status.busy": "2024-01-15T15:34:59.696087Z",
     "iopub.status.idle": "2024-01-15T15:34:59.725797Z",
     "shell.execute_reply": "2024-01-15T15:34:59.723999Z"
    },
    "id": "5TFthIsbEQlj",
    "papermill": {
     "duration": 0.048491,
     "end_time": "2024-01-15T15:34:59.728540",
     "exception": false,
     "start_time": "2024-01-15T15:34:59.680049",
     "status": "completed"
    },
    "tags": []
   },
   "outputs": [],
   "source": [
    "df = load_digits()"
   ]
  },
  {
   "cell_type": "markdown",
   "id": "b94a49de",
   "metadata": {
    "id": "Iwdky6kTDw_y",
    "papermill": {
     "duration": 0.013725,
     "end_time": "2024-01-15T15:34:59.756597",
     "exception": false,
     "start_time": "2024-01-15T15:34:59.742872",
     "status": "completed"
    },
    "tags": []
   },
   "source": [
    "# **Data Visualization**"
   ]
  },
  {
   "cell_type": "code",
   "execution_count": 6,
   "id": "93348946",
   "metadata": {
    "execution": {
     "iopub.execute_input": "2024-01-15T15:34:59.787484Z",
     "iopub.status.busy": "2024-01-15T15:34:59.787069Z",
     "iopub.status.idle": "2024-01-15T15:35:00.237082Z",
     "shell.execute_reply": "2024-01-15T15:35:00.235792Z"
    },
    "id": "dOGpR-sIElEO",
    "outputId": "1c72fa90-4376-41d5-e6cd-53e56cdd85be",
    "papermill": {
     "duration": 0.468581,
     "end_time": "2024-01-15T15:35:00.239836",
     "exception": false,
     "start_time": "2024-01-15T15:34:59.771255",
     "status": "completed"
    },
    "tags": []
   },
   "outputs": [
    {
     "data": {
      "image/png": "[encoded data removed]",
      "text/plain": [
       "<Figure size 1000x300 with 4 Axes>"
      ]
     },
     "metadata": {},
     "output_type": "display_data"
    }
   ],
   "source": [
    "_, axes = plt.subplots(nrows = 1, ncols = 4, figsize = (10, 3))\n",
    "for ax, image, label in zip(axes, df.images, df.target):\n",
    "    ax.set_axis_off()\n",
    "    ax.imshow(image, cmap=plt.cm.gray_r, interpolation = 'nearest')\n",
    "    ax.set_title('Training: %i' % label)"
   ]
  },
  {
   "cell_type": "markdown",
   "id": "f4d311f5",
   "metadata": {
    "id": "38dBDVRlExIb",
    "papermill": {
     "duration": 0.014331,
     "end_time": "2024-01-15T15:35:00.269308",
     "exception": false,
     "start_time": "2024-01-15T15:35:00.254977",
     "status": "completed"
    },
    "tags": []
   },
   "source": [
    "# **Data Preprocessing**"
   ]
  },
  {
   "cell_type": "markdown",
   "id": "49387a3b",
   "metadata": {
    "id": "sy2pPl1LE6R2",
    "papermill": {
     "duration": 0.014216,
     "end_time": "2024-01-15T15:35:00.298784",
     "exception": false,
     "start_time": "2024-01-15T15:35:00.284568",
     "status": "completed"
    },
    "tags": []
   },
   "source": [
    "### **Flatten Image**\n"
   ]
  },
  {
   "cell_type": "code",
   "execution_count": 7,
   "id": "79cc311c",
   "metadata": {
    "execution": {
     "iopub.execute_input": "2024-01-15T15:35:00.330238Z",
     "iopub.status.busy": "2024-01-15T15:35:00.329829Z",
     "iopub.status.idle": "2024-01-15T15:35:00.338216Z",
     "shell.execute_reply": "2024-01-15T15:35:00.336931Z"
    },
    "id": "yBg9o1ybFNHs",
    "outputId": "9f76471a-f4e1-4953-b09d-c0818aa0468b",
    "papermill": {
     "duration": 0.026823,
     "end_time": "2024-01-15T15:35:00.340798",
     "exception": false,
     "start_time": "2024-01-15T15:35:00.313975",
     "status": "completed"
    },
    "tags": []
   },
   "outputs": [
    {
     "data": {
      "text/plain": [
       "(1797, 8, 8)"
      ]
     },
     "execution_count": 7,
     "metadata": {},
     "output_type": "execute_result"
    }
   ],
   "source": [
    "df.images.shape"
   ]
  },
  {
   "cell_type": "code",
   "execution_count": 8,
   "id": "05d43655",
   "metadata": {
    "execution": {
     "iopub.execute_input": "2024-01-15T15:35:00.372644Z",
     "iopub.status.busy": "2024-01-15T15:35:00.372180Z",
     "iopub.status.idle": "2024-01-15T15:35:00.380259Z",
     "shell.execute_reply": "2024-01-15T15:35:00.379002Z"
    },
    "id": "pSUHQdxrFAPS",
    "outputId": "0e90ac06-47f7-4007-ed0f-2c6401922ab8",
    "papermill": {
     "duration": 0.027184,
     "end_time": "2024-01-15T15:35:00.382807",
     "exception": false,
     "start_time": "2024-01-15T15:35:00.355623",
     "status": "completed"
    },
    "tags": []
   },
   "outputs": [
    {
     "data": {
      "text/plain": [
       "array([[ 0.,  0.,  5., 13.,  9.,  1.,  0.,  0.],\n",
       "       [ 0.,  0., 13., 15., 10., 15.,  5.,  0.],\n",
       "       [ 0.,  3., 15.,  2.,  0., 11.,  8.,  0.],\n",
       "       [ 0.,  4., 12.,  0.,  0.,  8.,  8.,  0.],\n",
       "       [ 0.,  5.,  8.,  0.,  0.,  9.,  8.,  0.],\n",
       "       [ 0.,  4., 11.,  0.,  1., 12.,  7.,  0.],\n",
       "       [ 0.,  2., 14.,  5., 10., 12.,  0.,  0.],\n",
       "       [ 0.,  0.,  6., 13., 10.,  0.,  0.,  0.]])"
      ]
     },
     "execution_count": 8,
     "metadata": {},
     "output_type": "execute_result"
    }
   ],
   "source": [
    "df.images[0]"
   ]
  },
  {
   "cell_type": "code",
   "execution_count": 9,
   "id": "9b823b6e",
   "metadata": {
    "execution": {
     "iopub.execute_input": "2024-01-15T15:35:00.414274Z",
     "iopub.status.busy": "2024-01-15T15:35:00.413859Z",
     "iopub.status.idle": "2024-01-15T15:35:00.421556Z",
     "shell.execute_reply": "2024-01-15T15:35:00.420198Z"
    },
    "id": "AuEQaG75Gc61",
    "outputId": "6927f82e-e3a5-46e0-c166-4bcbe45e1ba8",
    "papermill": {
     "duration": 0.026281,
     "end_time": "2024-01-15T15:35:00.423943",
     "exception": false,
     "start_time": "2024-01-15T15:35:00.397662",
     "status": "completed"
    },
    "tags": []
   },
   "outputs": [
    {
     "data": {
      "text/plain": [
       "(8, 8)"
      ]
     },
     "execution_count": 9,
     "metadata": {},
     "output_type": "execute_result"
    }
   ],
   "source": [
    "df.images[0].shape"
   ]
  },
  {
   "cell_type": "code",
   "execution_count": 10,
   "id": "1ca648d5",
   "metadata": {
    "execution": {
     "iopub.execute_input": "2024-01-15T15:35:00.455796Z",
     "iopub.status.busy": "2024-01-15T15:35:00.455350Z",
     "iopub.status.idle": "2024-01-15T15:35:00.461277Z",
     "shell.execute_reply": "2024-01-15T15:35:00.460018Z"
    },
    "id": "Xxkj2BvSGxIw",
    "papermill": {
     "duration": 0.024591,
     "end_time": "2024-01-15T15:35:00.463622",
     "exception": false,
     "start_time": "2024-01-15T15:35:00.439031",
     "status": "completed"
    },
    "tags": []
   },
   "outputs": [],
   "source": [
    "n_samples = len(df.images)\n",
    "data = df.images.reshape((n_samples, -1))"
   ]
  },
  {
   "cell_type": "code",
   "execution_count": 11,
   "id": "8c37af07",
   "metadata": {
    "execution": {
     "iopub.execute_input": "2024-01-15T15:35:00.495754Z",
     "iopub.status.busy": "2024-01-15T15:35:00.495307Z",
     "iopub.status.idle": "2024-01-15T15:35:00.504722Z",
     "shell.execute_reply": "2024-01-15T15:35:00.503547Z"
    },
    "id": "-mHCQed0G25h",
    "outputId": "503ab4ec-4519-4b85-d3db-46d40ab6b0cf",
    "papermill": {
     "duration": 0.028544,
     "end_time": "2024-01-15T15:35:00.507197",
     "exception": false,
     "start_time": "2024-01-15T15:35:00.478653",
     "status": "completed"
    },
    "tags": []
   },
   "outputs": [
    {
     "data": {
      "text/plain": [
       "array([ 0.,  0.,  5., 13.,  9.,  1.,  0.,  0.,  0.,  0., 13., 15., 10.,\n",
       "       15.,  5.,  0.,  0.,  3., 15.,  2.,  0., 11.,  8.,  0.,  0.,  4.,\n",
       "       12.,  0.,  0.,  8.,  8.,  0.,  0.,  5.,  8.,  0.,  0.,  9.,  8.,\n",
       "        0.,  0.,  4., 11.,  0.,  1., 12.,  7.,  0.,  0.,  2., 14.,  5.,\n",
       "       10., 12.,  0.,  0.,  0.,  0.,  6., 13., 10.,  0.,  0.,  0.])"
      ]
     },
     "execution_count": 11,
     "metadata": {},
     "output_type": "execute_result"
    }
   ],
   "source": [
    "data[0]\n"
   ]
  },
  {
   "cell_type": "code",
   "execution_count": 12,
   "id": "997b5d17",
   "metadata": {
    "execution": {
     "iopub.execute_input": "2024-01-15T15:35:00.540157Z",
     "iopub.status.busy": "2024-01-15T15:35:00.539360Z",
     "iopub.status.idle": "2024-01-15T15:35:00.546907Z",
     "shell.execute_reply": "2024-01-15T15:35:00.545318Z"
    },
    "id": "I3zIngciG_1z",
    "outputId": "fb7ee9c8-ba57-41a7-a56f-b2a440451836",
    "papermill": {
     "duration": 0.027087,
     "end_time": "2024-01-15T15:35:00.549710",
     "exception": false,
     "start_time": "2024-01-15T15:35:00.522623",
     "status": "completed"
    },
    "tags": []
   },
   "outputs": [
    {
     "data": {
      "text/plain": [
       "(64,)"
      ]
     },
     "execution_count": 12,
     "metadata": {},
     "output_type": "execute_result"
    }
   ],
   "source": [
    "data[0].shape"
   ]
  },
  {
   "cell_type": "code",
   "execution_count": 13,
   "id": "9342a314",
   "metadata": {
    "execution": {
     "iopub.execute_input": "2024-01-15T15:35:00.583430Z",
     "iopub.status.busy": "2024-01-15T15:35:00.582687Z",
     "iopub.status.idle": "2024-01-15T15:35:00.588824Z",
     "shell.execute_reply": "2024-01-15T15:35:00.587739Z"
    },
    "id": "YNhI-51mHGOH",
    "outputId": "eaeeae6c-83f3-4a67-cc66-d32f30a14f84",
    "papermill": {
     "duration": 0.025796,
     "end_time": "2024-01-15T15:35:00.591061",
     "exception": false,
     "start_time": "2024-01-15T15:35:00.565265",
     "status": "completed"
    },
    "tags": []
   },
   "outputs": [
    {
     "data": {
      "text/plain": [
       "(1797, 64)"
      ]
     },
     "execution_count": 13,
     "metadata": {},
     "output_type": "execute_result"
    }
   ],
   "source": [
    "data.shape"
   ]
  },
  {
   "cell_type": "markdown",
   "id": "0e8a47c9",
   "metadata": {
    "id": "qlN46w3kIQCW",
    "papermill": {
     "duration": 0.015313,
     "end_time": "2024-01-15T15:35:00.621933",
     "exception": false,
     "start_time": "2024-01-15T15:35:00.606620",
     "status": "completed"
    },
    "tags": []
   },
   "source": [
    "# **Scaling Data**"
   ]
  },
  {
   "cell_type": "code",
   "execution_count": 14,
   "id": "52acbef2",
   "metadata": {
    "execution": {
     "iopub.execute_input": "2024-01-15T15:35:00.655167Z",
     "iopub.status.busy": "2024-01-15T15:35:00.654142Z",
     "iopub.status.idle": "2024-01-15T15:35:00.662620Z",
     "shell.execute_reply": "2024-01-15T15:35:00.661307Z"
    },
    "id": "IXon6NZrJT1W",
    "outputId": "25007115-5a82-4e4f-ebb2-3bd4dafdaf23",
    "papermill": {
     "duration": 0.027403,
     "end_time": "2024-01-15T15:35:00.664931",
     "exception": false,
     "start_time": "2024-01-15T15:35:00.637528",
     "status": "completed"
    },
    "tags": []
   },
   "outputs": [
    {
     "data": {
      "text/plain": [
       "0.0"
      ]
     },
     "execution_count": 14,
     "metadata": {},
     "output_type": "execute_result"
    }
   ],
   "source": [
    "data.min()"
   ]
  },
  {
   "cell_type": "code",
   "execution_count": 15,
   "id": "07d32b5a",
   "metadata": {
    "execution": {
     "iopub.execute_input": "2024-01-15T15:35:00.699110Z",
     "iopub.status.busy": "2024-01-15T15:35:00.698126Z",
     "iopub.status.idle": "2024-01-15T15:35:00.705056Z",
     "shell.execute_reply": "2024-01-15T15:35:00.703929Z"
    },
    "id": "pWKkuqQyJhWS",
    "outputId": "a3d5bdb0-af83-4cbe-817f-2a86191d9e57",
    "papermill": {
     "duration": 0.026382,
     "end_time": "2024-01-15T15:35:00.707349",
     "exception": false,
     "start_time": "2024-01-15T15:35:00.680967",
     "status": "completed"
    },
    "tags": []
   },
   "outputs": [
    {
     "data": {
      "text/plain": [
       "16.0"
      ]
     },
     "execution_count": 15,
     "metadata": {},
     "output_type": "execute_result"
    }
   ],
   "source": [
    "data.max()"
   ]
  },
  {
   "cell_type": "code",
   "execution_count": 16,
   "id": "810b4a5b",
   "metadata": {
    "execution": {
     "iopub.execute_input": "2024-01-15T15:35:00.741992Z",
     "iopub.status.busy": "2024-01-15T15:35:00.741004Z",
     "iopub.status.idle": "2024-01-15T15:35:00.746700Z",
     "shell.execute_reply": "2024-01-15T15:35:00.745439Z"
    },
    "id": "yEvCCvaEJnPl",
    "papermill": {
     "duration": 0.025894,
     "end_time": "2024-01-15T15:35:00.749237",
     "exception": false,
     "start_time": "2024-01-15T15:35:00.723343",
     "status": "completed"
    },
    "tags": []
   },
   "outputs": [],
   "source": [
    "data = data/16"
   ]
  },
  {
   "cell_type": "code",
   "execution_count": 17,
   "id": "057bea90",
   "metadata": {
    "execution": {
     "iopub.execute_input": "2024-01-15T15:35:00.783632Z",
     "iopub.status.busy": "2024-01-15T15:35:00.783192Z",
     "iopub.status.idle": "2024-01-15T15:35:00.790322Z",
     "shell.execute_reply": "2024-01-15T15:35:00.789277Z"
    },
    "id": "_SSOMBxxJv94",
    "outputId": "8aec75e1-37cb-4091-fa38-126bc7cb7d6b",
    "papermill": {
     "duration": 0.027644,
     "end_time": "2024-01-15T15:35:00.792762",
     "exception": false,
     "start_time": "2024-01-15T15:35:00.765118",
     "status": "completed"
    },
    "tags": []
   },
   "outputs": [
    {
     "data": {
      "text/plain": [
       "0.0"
      ]
     },
     "execution_count": 17,
     "metadata": {},
     "output_type": "execute_result"
    }
   ],
   "source": [
    "data.min()"
   ]
  },
  {
   "cell_type": "code",
   "execution_count": 18,
   "id": "9f05238d",
   "metadata": {
    "execution": {
     "iopub.execute_input": "2024-01-15T15:35:00.827221Z",
     "iopub.status.busy": "2024-01-15T15:35:00.826368Z",
     "iopub.status.idle": "2024-01-15T15:35:00.834513Z",
     "shell.execute_reply": "2024-01-15T15:35:00.833588Z"
    },
    "id": "mGcF8vtLJ2BY",
    "outputId": "4f734858-ee96-49ff-fdbe-3b4fbb6d0768",
    "papermill": {
     "duration": 0.028049,
     "end_time": "2024-01-15T15:35:00.836898",
     "exception": false,
     "start_time": "2024-01-15T15:35:00.808849",
     "status": "completed"
    },
    "tags": []
   },
   "outputs": [
    {
     "data": {
      "text/plain": [
       "1.0"
      ]
     },
     "execution_count": 18,
     "metadata": {},
     "output_type": "execute_result"
    }
   ],
   "source": [
    "data.max()"
   ]
  },
  {
   "cell_type": "code",
   "execution_count": 19,
   "id": "959c9cc3",
   "metadata": {
    "execution": {
     "iopub.execute_input": "2024-01-15T15:35:00.871996Z",
     "iopub.status.busy": "2024-01-15T15:35:00.871457Z",
     "iopub.status.idle": "2024-01-15T15:35:00.879681Z",
     "shell.execute_reply": "2024-01-15T15:35:00.878437Z"
    },
    "id": "X6fVwqBQJ6vp",
    "outputId": "c9f614e1-d9e8-41bd-e4cc-183ecb7e8c4f",
    "papermill": {
     "duration": 0.028956,
     "end_time": "2024-01-15T15:35:00.882354",
     "exception": false,
     "start_time": "2024-01-15T15:35:00.853398",
     "status": "completed"
    },
    "tags": []
   },
   "outputs": [
    {
     "data": {
      "text/plain": [
       "array([0.    , 0.    , 0.3125, 0.8125, 0.5625, 0.0625, 0.    , 0.    ,\n",
       "       0.    , 0.    , 0.8125, 0.9375, 0.625 , 0.9375, 0.3125, 0.    ,\n",
       "       0.    , 0.1875, 0.9375, 0.125 , 0.    , 0.6875, 0.5   , 0.    ,\n",
       "       0.    , 0.25  , 0.75  , 0.    , 0.    , 0.5   , 0.5   , 0.    ,\n",
       "       0.    , 0.3125, 0.5   , 0.    , 0.    , 0.5625, 0.5   , 0.    ,\n",
       "       0.    , 0.25  , 0.6875, 0.    , 0.0625, 0.75  , 0.4375, 0.    ,\n",
       "       0.    , 0.125 , 0.875 , 0.3125, 0.625 , 0.75  , 0.    , 0.    ,\n",
       "       0.    , 0.    , 0.375 , 0.8125, 0.625 , 0.    , 0.    , 0.    ])"
      ]
     },
     "execution_count": 19,
     "metadata": {},
     "output_type": "execute_result"
    }
   ],
   "source": [
    "data[0]"
   ]
  },
  {
   "cell_type": "markdown",
   "id": "5500a749",
   "metadata": {
    "id": "_d9reeJwKHXR",
    "papermill": {
     "duration": 0.016474,
     "end_time": "2024-01-15T15:35:00.916883",
     "exception": false,
     "start_time": "2024-01-15T15:35:00.900409",
     "status": "completed"
    },
    "tags": []
   },
   "source": [
    "# **Train test split Data**"
   ]
  },
  {
   "cell_type": "code",
   "execution_count": 20,
   "id": "bb2f1502",
   "metadata": {
    "execution": {
     "iopub.execute_input": "2024-01-15T15:35:00.953105Z",
     "iopub.status.busy": "2024-01-15T15:35:00.952056Z",
     "iopub.status.idle": "2024-01-15T15:35:01.082153Z",
     "shell.execute_reply": "2024-01-15T15:35:01.080871Z"
    },
    "id": "FWmf0Te-KMcf",
    "papermill": {
     "duration": 0.151497,
     "end_time": "2024-01-15T15:35:01.085020",
     "exception": false,
     "start_time": "2024-01-15T15:35:00.933523",
     "status": "completed"
    },
    "tags": []
   },
   "outputs": [],
   "source": [
    "from sklearn.model_selection import train_test_split"
   ]
  },
  {
   "cell_type": "code",
   "execution_count": 21,
   "id": "4c85b37c",
   "metadata": {
    "execution": {
     "iopub.execute_input": "2024-01-15T15:35:01.121046Z",
     "iopub.status.busy": "2024-01-15T15:35:01.120622Z",
     "iopub.status.idle": "2024-01-15T15:35:01.128168Z",
     "shell.execute_reply": "2024-01-15T15:35:01.126918Z"
    },
    "id": "DkYgWMVWKUTF",
    "papermill": {
     "duration": 0.029212,
     "end_time": "2024-01-15T15:35:01.130916",
     "exception": false,
     "start_time": "2024-01-15T15:35:01.101704",
     "status": "completed"
    },
    "tags": []
   },
   "outputs": [],
   "source": [
    "xtrain, xtest, ytrain, ytest = train_test_split(data, df.target, test_size = 0.3)"
   ]
  },
  {
   "cell_type": "code",
   "execution_count": 22,
   "id": "05c967ee",
   "metadata": {
    "execution": {
     "iopub.execute_input": "2024-01-15T15:35:01.165305Z",
     "iopub.status.busy": "2024-01-15T15:35:01.164935Z",
     "iopub.status.idle": "2024-01-15T15:35:01.173053Z",
     "shell.execute_reply": "2024-01-15T15:35:01.171579Z"
    },
    "id": "YVTrdv1HKYm2",
    "outputId": "8edc723d-b816-4e54-9719-4d85ac2372dd",
    "papermill": {
     "duration": 0.02817,
     "end_time": "2024-01-15T15:35:01.175391",
     "exception": false,
     "start_time": "2024-01-15T15:35:01.147221",
     "status": "completed"
    },
    "tags": []
   },
   "outputs": [
    {
     "data": {
      "text/plain": [
       "((1257, 64), (540, 64), (1257,), (540,))"
      ]
     },
     "execution_count": 22,
     "metadata": {},
     "output_type": "execute_result"
    }
   ],
   "source": [
    "xtrain.shape, xtest.shape, ytrain.shape, ytest.shape"
   ]
  },
  {
   "cell_type": "markdown",
   "id": "d7868ae8",
   "metadata": {
    "id": "TjfzCy1hLHgE",
    "papermill": {
     "duration": 0.015902,
     "end_time": "2024-01-15T15:35:01.207697",
     "exception": false,
     "start_time": "2024-01-15T15:35:01.191795",
     "status": "completed"
    },
    "tags": []
   },
   "source": [
    "# **Modeling**"
   ]
  },
  {
   "cell_type": "markdown",
   "id": "6928b287",
   "metadata": {
    "id": "8WAIp_RNLa5F",
    "papermill": {
     "duration": 0.01589,
     "end_time": "2024-01-15T15:35:01.239787",
     "exception": false,
     "start_time": "2024-01-15T15:35:01.223897",
     "status": "completed"
    },
    "tags": []
   },
   "source": [
    "### **Random Forest model**"
   ]
  },
  {
   "cell_type": "code",
   "execution_count": 23,
   "id": "5ed8572e",
   "metadata": {
    "execution": {
     "iopub.execute_input": "2024-01-15T15:35:01.273846Z",
     "iopub.status.busy": "2024-01-15T15:35:01.273421Z",
     "iopub.status.idle": "2024-01-15T15:35:01.728454Z",
     "shell.execute_reply": "2024-01-15T15:35:01.727191Z"
    },
    "id": "XoB29gGkLL7W",
    "papermill": {
     "duration": 0.475417,
     "end_time": "2024-01-15T15:35:01.731346",
     "exception": false,
     "start_time": "2024-01-15T15:35:01.255929",
     "status": "completed"
    },
    "tags": []
   },
   "outputs": [],
   "source": [
    "from sklearn.ensemble import RandomForestClassifier"
   ]
  },
  {
   "cell_type": "code",
   "execution_count": 24,
   "id": "e74e07d4",
   "metadata": {
    "execution": {
     "iopub.execute_input": "2024-01-15T15:35:01.766201Z",
     "iopub.status.busy": "2024-01-15T15:35:01.765776Z",
     "iopub.status.idle": "2024-01-15T15:35:01.771282Z",
     "shell.execute_reply": "2024-01-15T15:35:01.770061Z"
    },
    "id": "139leh2qLmDR",
    "papermill": {
     "duration": 0.025814,
     "end_time": "2024-01-15T15:35:01.773836",
     "exception": false,
     "start_time": "2024-01-15T15:35:01.748022",
     "status": "completed"
    },
    "tags": []
   },
   "outputs": [],
   "source": [
    "rf = RandomForestClassifier()"
   ]
  },
  {
   "cell_type": "markdown",
   "id": "c1a3c6b3",
   "metadata": {
    "id": "Wg0qQXPIMbDL",
    "papermill": {
     "duration": 0.016068,
     "end_time": "2024-01-15T15:35:01.807161",
     "exception": false,
     "start_time": "2024-01-15T15:35:01.791093",
     "status": "completed"
    },
    "tags": []
   },
   "source": [
    "### **Train or Fit Model**"
   ]
  },
  {
   "cell_type": "code",
   "execution_count": 25,
   "id": "44533a3c",
   "metadata": {
    "execution": {
     "iopub.execute_input": "2024-01-15T15:35:01.841720Z",
     "iopub.status.busy": "2024-01-15T15:35:01.841243Z",
     "iopub.status.idle": "2024-01-15T15:35:02.321137Z",
     "shell.execute_reply": "2024-01-15T15:35:02.320223Z"
    },
    "id": "vp-2DHLVLs4T",
    "outputId": "da61d3e8-5902-47fa-d9e0-f73c24e1c1e4",
    "papermill": {
     "duration": 0.500534,
     "end_time": "2024-01-15T15:35:02.324010",
     "exception": false,
     "start_time": "2024-01-15T15:35:01.823476",
     "status": "completed"
    },
    "tags": []
   },
   "outputs": [
    {
     "data": {
      "text/html": [
       "<style>#sk-container-id-1 {color: black;background-color: white;}#sk-container-id-1 pre{padding: 0;}#sk-container-id-1 div.sk-toggleable {background-color: white;}#sk-container-id-1 label.sk-toggleable__label {cursor: pointer;display: block;width: 100%;margin-bottom: 0;padding: 0.3em;box-sizing: border-box;text-align: center;}#sk-container-id-1 label.sk-toggleable__label-arrow:before {content: \"▸\";float: left;margin-right: 0.25em;color: #696969;}#sk-container-id-1 label.sk-toggleable__label-arrow:hover:before {color: black;}#sk-container-id-1 div.sk-estimator:hover label.sk-toggleable__label-arrow:before {color: black;}#sk-container-id-1 div.sk-toggleable__content {max-height: 0;max-width: 0;overflow: hidden;text-align: left;background-color: #f0f8ff;}#sk-container-id-1 div.sk-toggleable__content pre {margin: 0.2em;color: black;border-radius: 0.25em;background-color: #f0f8ff;}#sk-container-id-1 input.sk-toggleable__control:checked~div.sk-toggleable__content {max-height: 200px;max-width: 100%;overflow: auto;}#sk-container-id-1 input.sk-toggleable__control:checked~label.sk-toggleable__label-arrow:before {content: \"▾\";}#sk-container-id-1 div.sk-estimator input.sk-toggleable__control:checked~label.sk-toggleable__label {background-color: #d4ebff;}#sk-container-id-1 div.sk-label input.sk-toggleable__control:checked~label.sk-toggleable__label {background-color: #d4ebff;}#sk-container-id-1 input.sk-hidden--visually {border: 0;clip: rect(1px 1px 1px 1px);clip: rect(1px, 1px, 1px, 1px);height: 1px;margin: -1px;overflow: hidden;padding: 0;position: absolute;width: 1px;}#sk-container-id-1 div.sk-estimator {font-family: monospace;background-color: #f0f8ff;border: 1px dotted black;border-radius: 0.25em;box-sizing: border-box;margin-bottom: 0.5em;}#sk-container-id-1 div.sk-estimator:hover {background-color: #d4ebff;}#sk-container-id-1 div.sk-parallel-item::after {content: \"\";width: 100%;border-bottom: 1px solid gray;flex-grow: 1;}#sk-container-id-1 div.sk-label:hover label.sk-toggleable__label {background-color: #d4ebff;}#sk-container-id-1 div.sk-serial::before {content: \"\";position: absolute;border-left: 1px solid gray;box-sizing: border-box;top: 0;bottom: 0;left: 50%;z-index: 0;}#sk-container-id-1 div.sk-serial {display: flex;flex-direction: column;align-items: center;background-color: white;padding-right: 0.2em;padding-left: 0.2em;position: relative;}#sk-container-id-1 div.sk-item {position: relative;z-index: 1;}#sk-container-id-1 div.sk-parallel {display: flex;align-items: stretch;justify-content: center;background-color: white;position: relative;}#sk-container-id-1 div.sk-item::before, #sk-container-id-1 div.sk-parallel-item::before {content: \"\";position: absolute;border-left: 1px solid gray;box-sizing: border-box;top: 0;bottom: 0;left: 50%;z-index: -1;}#sk-container-id-1 div.sk-parallel-item {display: flex;flex-direction: column;z-index: 1;position: relative;background-color: white;}#sk-container-id-1 div.sk-parallel-item:first-child::after {align-self: flex-end;width: 50%;}#sk-container-id-1 div.sk-parallel-item:last-child::after {align-self: flex-start;width: 50%;}#sk-container-id-1 div.sk-parallel-item:only-child::after {width: 0;}#sk-container-id-1 div.sk-dashed-wrapped {border: 1px dashed gray;margin: 0 0.4em 0.5em 0.4em;box-sizing: border-box;padding-bottom: 0.4em;background-color: white;}#sk-container-id-1 div.sk-label label {font-family: monospace;font-weight: bold;display: inline-block;line-height: 1.2em;}#sk-container-id-1 div.sk-label-container {text-align: center;}#sk-container-id-1 div.sk-container {/* jupyter's `normalize.less` sets `[hidden] { display: none; }` but bootstrap.min.css set `[hidden] { display: none !important; }` so we also need the `!important` here to be able to override the default hidden behavior on the sphinx rendered scikit-learn.org. See: https://github.com/scikit-learn/scikit-learn/issues/21755 */display: inline-block !important;position: relative;}#sk-container-id-1 div.sk-text-repr-fallback {display: none;}</style><div id=\"sk-container-id-1\" class=\"sk-top-container\"><div class=\"sk-text-repr-fallback\"><pre>RandomForestClassifier()</pre><b>In a Jupyter environment, please rerun this cell to show the HTML representation or trust the notebook. <br />On GitHub, the HTML representation is unable to render, please try loading this page with nbviewer.org.</b></div><div class=\"sk-container\" hidden><div class=\"sk-item\"><div class=\"sk-estimator sk-toggleable\"><input class=\"sk-toggleable__control sk-hidden--visually\" id=\"sk-estimator-id-1\" type=\"checkbox\" checked><label for=\"sk-estimator-id-1\" class=\"sk-toggleable__label sk-toggleable__label-arrow\">RandomForestClassifier</label><div class=\"sk-toggleable__content\"><pre>RandomForestClassifier()</pre></div></div></div></div></div>"
      ],
      "text/plain": [
       "RandomForestClassifier()"
      ]
     },
     "execution_count": 25,
     "metadata": {},
     "output_type": "execute_result"
    }
   ],
   "source": [
    "rf.fit(xtrain, ytrain)"
   ]
  },
  {
   "cell_type": "markdown",
   "id": "2e566a13",
   "metadata": {
    "id": "9SOPoN9TNYFb",
    "papermill": {
     "duration": 0.01617,
     "end_time": "2024-01-15T15:35:02.356941",
     "exception": false,
     "start_time": "2024-01-15T15:35:02.340771",
     "status": "completed"
    },
    "tags": []
   },
   "source": [
    "# **Prediction**"
   ]
  },
  {
   "cell_type": "markdown",
   "id": "abfd8167",
   "metadata": {
    "id": "VG9p5F21PAvH",
    "papermill": {
     "duration": 0.016263,
     "end_time": "2024-01-15T15:35:02.389614",
     "exception": false,
     "start_time": "2024-01-15T15:35:02.373351",
     "status": "completed"
    },
    "tags": []
   },
   "source": [
    "### **Predict Test Data**"
   ]
  },
  {
   "cell_type": "code",
   "execution_count": 26,
   "id": "9a07bddc",
   "metadata": {
    "execution": {
     "iopub.execute_input": "2024-01-15T15:35:02.424575Z",
     "iopub.status.busy": "2024-01-15T15:35:02.424114Z",
     "iopub.status.idle": "2024-01-15T15:35:02.455544Z",
     "shell.execute_reply": "2024-01-15T15:35:02.454188Z"
    },
    "id": "OExW8lApNl9i",
    "papermill": {
     "duration": 0.052301,
     "end_time": "2024-01-15T15:35:02.458462",
     "exception": false,
     "start_time": "2024-01-15T15:35:02.406161",
     "status": "completed"
    },
    "tags": []
   },
   "outputs": [],
   "source": [
    "y_pred = rf.predict(xtest)"
   ]
  },
  {
   "cell_type": "code",
   "execution_count": 27,
   "id": "2d92aa09",
   "metadata": {
    "execution": {
     "iopub.execute_input": "2024-01-15T15:35:02.494739Z",
     "iopub.status.busy": "2024-01-15T15:35:02.493659Z",
     "iopub.status.idle": "2024-01-15T15:35:02.503637Z",
     "shell.execute_reply": "2024-01-15T15:35:02.502350Z"
    },
    "id": "rnb_fNpENqrv",
    "outputId": "081b94a0-1398-4f61-b332-f74b5eb8d431",
    "papermill": {
     "duration": 0.030409,
     "end_time": "2024-01-15T15:35:02.506129",
     "exception": false,
     "start_time": "2024-01-15T15:35:02.475720",
     "status": "completed"
    },
    "tags": []
   },
   "outputs": [
    {
     "data": {
      "text/plain": [
       "array([2, 4, 3, 7, 4, 7, 0, 3, 0, 0, 5, 5, 2, 4, 4, 0, 9, 5, 9, 2, 1, 0,\n",
       "       0, 0, 6, 6, 5, 5, 0, 2, 6, 7, 0, 5, 3, 8, 9, 7, 4, 4, 4, 8, 5, 3,\n",
       "       2, 6, 9, 5, 7, 5, 8, 7, 1, 4, 8, 7, 1, 9, 1, 2, 8, 2, 3, 4, 2, 7,\n",
       "       4, 3, 2, 7, 1, 9, 6, 7, 0, 3, 3, 9, 0, 3, 2, 2, 0, 7, 9, 8, 2, 2,\n",
       "       9, 4, 5, 8, 2, 5, 9, 1, 9, 4, 4, 2, 5, 0, 7, 9, 2, 3, 7, 5, 5, 9,\n",
       "       9, 1, 4, 0, 6, 4, 7, 1, 7, 8, 4, 7, 2, 2, 6, 8, 9, 2, 4, 3, 9, 9,\n",
       "       1, 3, 6, 6, 5, 6, 0, 2, 5, 7, 1, 1, 6, 1, 2, 2, 7, 4, 0, 1, 2, 5,\n",
       "       9, 9, 7, 8, 0, 4, 1, 1, 8, 7, 3, 2, 0, 7, 2, 1, 9, 5, 4, 4, 7, 0,\n",
       "       9, 4, 3, 6, 3, 6, 1, 1, 4, 6, 5, 0, 2, 5, 4, 9, 2, 0, 7, 3, 0, 6,\n",
       "       9, 0, 1, 6, 7, 1, 9, 6, 4, 5, 9, 8, 6, 5, 3, 1, 4, 9, 7, 0, 0, 0,\n",
       "       3, 7, 6, 2, 2, 1, 0, 1, 8, 1, 2, 2, 3, 9, 1, 4, 7, 5, 9, 8, 9, 8,\n",
       "       6, 7, 9, 5, 0, 7, 5, 1, 5, 8, 1, 6, 3, 1, 3, 4, 5, 8, 5, 8, 6, 2,\n",
       "       0, 9, 3, 0, 2, 8, 4, 9, 8, 4, 3, 4, 4, 2, 7, 6, 8, 8, 5, 6, 9, 8,\n",
       "       5, 3, 2, 8, 9, 3, 1, 5, 6, 1, 5, 3, 9, 8, 5, 8, 9, 9, 0, 3, 0, 7,\n",
       "       9, 6, 4, 9, 0, 7, 5, 6, 9, 9, 9, 4, 6, 9, 5, 4, 8, 6, 7, 6, 8, 7,\n",
       "       8, 0, 2, 4, 1, 0, 6, 7, 1, 7, 2, 7, 1, 8, 9, 3, 3, 1, 5, 8, 9, 1,\n",
       "       5, 2, 9, 6, 6, 9, 0, 0, 2, 3, 7, 8, 6, 9, 3, 2, 1, 7, 1, 9, 6, 3,\n",
       "       2, 5, 0, 2, 8, 5, 9, 3, 8, 4, 0, 2, 0, 3, 5, 4, 2, 0, 8, 8, 9, 2,\n",
       "       1, 9, 4, 3, 6, 4, 9, 9, 8, 2, 2, 9, 0, 9, 0, 7, 2, 4, 3, 5, 0, 1,\n",
       "       9, 9, 6, 3, 8, 3, 9, 3, 7, 8, 3, 0, 6, 8, 1, 9, 1, 3, 8, 6, 4, 4,\n",
       "       9, 6, 8, 2, 6, 5, 4, 4, 1, 9, 7, 2, 2, 1, 9, 7, 6, 1, 4, 9, 4, 0,\n",
       "       0, 4, 3, 8, 6, 0, 7, 5, 4, 1, 7, 4, 7, 7, 0, 2, 9, 6, 4, 3, 2, 1,\n",
       "       1, 6, 9, 7, 2, 0, 3, 8, 6, 9, 4, 6, 8, 7, 2, 5, 1, 3, 1, 3, 7, 4,\n",
       "       8, 3, 8, 4, 5, 2, 9, 7, 3, 8, 6, 5, 7, 4, 7, 4, 5, 8, 7, 4, 9, 4,\n",
       "       0, 6, 3, 2, 7, 1, 0, 3, 7, 6, 2, 1])"
      ]
     },
     "execution_count": 27,
     "metadata": {},
     "output_type": "execute_result"
    }
   ],
   "source": [
    "y_pred"
   ]
  },
  {
   "cell_type": "markdown",
   "id": "34869327",
   "metadata": {
    "id": "Jvr4uUaWPxVZ",
    "papermill": {
     "duration": 0.016695,
     "end_time": "2024-01-15T15:35:02.539733",
     "exception": false,
     "start_time": "2024-01-15T15:35:02.523038",
     "status": "completed"
    },
    "tags": []
   },
   "source": [
    "#  **Model Evaluation**"
   ]
  },
  {
   "cell_type": "markdown",
   "id": "4183745e",
   "metadata": {
    "id": "hPklvpbnN9Y6",
    "papermill": {
     "duration": 0.016923,
     "end_time": "2024-01-15T15:35:02.573447",
     "exception": false,
     "start_time": "2024-01-15T15:35:02.556524",
     "status": "completed"
    },
    "tags": []
   },
   "source": [
    "### **Model Accuracy**"
   ]
  },
  {
   "cell_type": "code",
   "execution_count": 28,
   "id": "c92d8b19",
   "metadata": {
    "execution": {
     "iopub.execute_input": "2024-01-15T15:35:02.609237Z",
     "iopub.status.busy": "2024-01-15T15:35:02.608757Z",
     "iopub.status.idle": "2024-01-15T15:35:02.613583Z",
     "shell.execute_reply": "2024-01-15T15:35:02.612679Z"
    },
    "id": "nZpShDxnOLIa",
    "papermill": {
     "duration": 0.02588,
     "end_time": "2024-01-15T15:35:02.616120",
     "exception": false,
     "start_time": "2024-01-15T15:35:02.590240",
     "status": "completed"
    },
    "tags": []
   },
   "outputs": [],
   "source": [
    "from sklearn.metrics import confusion_matrix, classification_report"
   ]
  },
  {
   "cell_type": "code",
   "execution_count": 29,
   "id": "6a237403",
   "metadata": {
    "execution": {
     "iopub.execute_input": "2024-01-15T15:35:02.651697Z",
     "iopub.status.busy": "2024-01-15T15:35:02.651231Z",
     "iopub.status.idle": "2024-01-15T15:35:02.663616Z",
     "shell.execute_reply": "2024-01-15T15:35:02.662254Z"
    },
    "id": "ivPo0VnBOPHs",
    "outputId": "cf461f37-0cc5-43ab-c0b5-dc7397e93a7c",
    "papermill": {
     "duration": 0.033621,
     "end_time": "2024-01-15T15:35:02.666529",
     "exception": false,
     "start_time": "2024-01-15T15:35:02.632908",
     "status": "completed"
    },
    "tags": []
   },
   "outputs": [
    {
     "data": {
      "text/plain": [
       "array([[51,  0,  0,  0,  1,  0,  0,  0,  0,  0],\n",
       "       [ 0, 48,  0,  0,  0,  0,  0,  0,  0,  0],\n",
       "       [ 1,  0, 56,  0,  0,  0,  0,  1,  1,  0],\n",
       "       [ 0,  1,  0, 50,  0,  0,  0,  0,  0,  1],\n",
       "       [ 0,  0,  0,  0, 56,  0,  0,  2,  1,  1],\n",
       "       [ 0,  0,  0,  0,  1, 44,  1,  0,  1,  1],\n",
       "       [ 0,  0,  0,  0,  0,  1, 49,  0,  0,  0],\n",
       "       [ 0,  0,  0,  0,  0,  0,  0, 53,  0,  0],\n",
       "       [ 0,  1,  2,  0,  0,  1,  0,  0, 44,  0],\n",
       "       [ 0,  1,  0,  0,  0,  1,  0,  0,  2, 66]])"
      ]
     },
     "execution_count": 29,
     "metadata": {},
     "output_type": "execute_result"
    }
   ],
   "source": [
    "confusion_matrix(ytest, y_pred)"
   ]
  },
  {
   "cell_type": "code",
   "execution_count": 30,
   "id": "0801cc66",
   "metadata": {
    "execution": {
     "iopub.execute_input": "2024-01-15T15:35:02.703517Z",
     "iopub.status.busy": "2024-01-15T15:35:02.702729Z",
     "iopub.status.idle": "2024-01-15T15:35:02.718019Z",
     "shell.execute_reply": "2024-01-15T15:35:02.716248Z"
    },
    "id": "JTY4ExgcOXFU",
    "outputId": "da391975-0d03-4aca-ec74-fe294d7ee90c",
    "papermill": {
     "duration": 0.036362,
     "end_time": "2024-01-15T15:35:02.720484",
     "exception": false,
     "start_time": "2024-01-15T15:35:02.684122",
     "status": "completed"
    },
    "tags": []
   },
   "outputs": [
    {
     "name": "stdout",
     "output_type": "stream",
     "text": [
      "              precision    recall  f1-score   support\n",
      "\n",
      "           0       0.98      0.98      0.98        52\n",
      "           1       0.94      1.00      0.97        48\n",
      "           2       0.97      0.95      0.96        59\n",
      "           3       1.00      0.96      0.98        52\n",
      "           4       0.97      0.93      0.95        60\n",
      "           5       0.94      0.92      0.93        48\n",
      "           6       0.98      0.98      0.98        50\n",
      "           7       0.95      1.00      0.97        53\n",
      "           8       0.90      0.92      0.91        48\n",
      "           9       0.96      0.94      0.95        70\n",
      "\n",
      "    accuracy                           0.96       540\n",
      "   macro avg       0.96      0.96      0.96       540\n",
      "weighted avg       0.96      0.96      0.96       540\n",
      "\n"
     ]
    }
   ],
   "source": [
    "print(classification_report(ytest, y_pred))"
   ]
  },
  {
   "cell_type": "markdown",
   "id": "c2ce25b1",
   "metadata": {
    "id": "s717aEzkSeJO",
    "papermill": {
     "duration": 0.016643,
     "end_time": "2024-01-15T15:35:02.754342",
     "exception": false,
     "start_time": "2024-01-15T15:35:02.737699",
     "status": "completed"
    },
    "tags": []
   },
   "source": [
    "# **Explaination**"
   ]
  },
  {
   "cell_type": "markdown",
   "id": "e41bba29",
   "metadata": {
    "id": "JB39fRcBQY3C",
    "papermill": {
     "duration": 0.016969,
     "end_time": "2024-01-15T15:35:02.789277",
     "exception": false,
     "start_time": "2024-01-15T15:35:02.772308",
     "status": "completed"
    },
    "tags": []
   },
   "source": [
    "Handwritten Digit Prediction, or Digit Classification, is like training a computer to read and understand handwritten numbers, similar to how we recognize them ourselves. Imagine you have a bunch of pictures, each showing a handwritten digit from 0 to 9. The goal is to teach the computer how to look at these pictures and figure out which digit is in each one. We split our pictures into two groups: one set to teach the computer (training set) and another to test its skills (testing set). We choose a smart method, like a special problem-solving recipe, for the computer to learn the patterns and differences in the pictures. As it learns, we guide it by telling whether its guesses are right or wrong. Once it masters this skill, we give it new pictures it hasn't seen during training, and it tries its best to guess the correct digit. We check its guesses to see how well it's doing, using simple checks to see if it's getting the numbers correct. This project helps us build a computer that can recognize handwritten digits, which has practical uses like reading postal codes or helping computers understand our handwriting. It's like teaching the computer to read your handwriting."
   ]
  }
 ],
 "metadata": {
  "kaggle": {
   "accelerator": "none",
   "dataSources": [],
   "dockerImageVersionId": 30527,
   "isGpuEnabled": false,
   "isInternetEnabled": false,
   "language": "python",
   "sourceType": "notebook"
  },
  "kernelspec": {
   "display_name": "Python 3",
   "language": "python",
   "name": "python3"
  },
  "language_info": {
   "codemirror_mode": {
    "name": "ipython",
    "version": 3
   },
   "file_extension": ".py",
   "mimetype": "text/x-python",
   "name": "python",
   "nbconvert_exporter": "python",
   "pygments_lexer": "ipython3",
   "version": "3.10.12"
  },
  "papermill": {
   "default_parameters": {},
   "duration": 19.54489,
   "end_time": "2024-01-15T15:35:03.833110",
   "environment_variables": {},
   "exception": null,
   "input_path": "__notebook__.ipynb",
   "output_path": "__notebook__.ipynb",
   "parameters": {},
   "start_time": "2024-01-15T15:34:44.288220",
   "version": "2.4.0"
  }
 },
 "nbformat": 4,
 "nbformat_minor": 5
}
